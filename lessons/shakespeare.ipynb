{
 "cells": [
  {
   "cell_type": "code",
   "execution_count": 4,
   "metadata": {},
   "outputs": [],
   "source": [
    "from io import TextIOWrapper\n",
    "def read_lines(filename: str) -> list[str]:\n",
    "    \"\"\"Read every line from filenmame into a list.\"\"\"\n",
    "    lines: list[str] = []\n",
    "    file_handle: TextIOWrapper = open(filename, \"r\")\n",
    "    for line in file_handle:\n",
    "        line = line.lower()\n",
    "        line = line.strip()\n",
    "        lines.append(line)\n",
    "    file_handle.close()\n",
    "    return lines\n",
    "\n",
    "    shakespeare_lines: list[str] = read_lines(\"./suaoespeare.txt\")\n",
    "    print(len(shakespeare_lines))"
   ]
  },
  {
   "cell_type": "code",
   "execution_count": null,
   "metadata": {},
   "outputs": [],
   "source": [
    "# Tally up characters\n",
    "\n",
    "#Goal: Define a function named tally\n",
    "# It will take two parameters\n",
    "# 1. A reference to a dictionary whose keys are str and values are int\n",
    "# 2. A str / key is in the dictionary, increase its value by one,\n",
    "# Otherwise, set they key's value to 1 in the dictionary \n",
    "# This function returns nothing.\n"
   ]
  },
  {
   "cell_type": "code",
   "execution_count": null,
   "metadata": {},
   "outputs": [],
   "source": [
    "def tally(dict(str, int)) -> None:\n",
    "    for v,k in tally.items:\n",
    "        v += 1\n",
    "    k = 1\n",
    "    return None\n",
    "    "
   ]
  },
  {
   "cell_type": "code",
   "execution_count": 6,
   "metadata": {},
   "outputs": [
    {
     "ename": "ImportError",
     "evalue": "cannot import name '_CommandResults' from 'imaplib' (/Library/Frameworks/Python.framework/Versions/3.10/lib/python3.10/imaplib.py)",
     "output_type": "error",
     "traceback": [
      "\u001b[0;31m---------------------------------------------------------------------------\u001b[0m",
      "\u001b[0;31mImportError\u001b[0m                               Traceback (most recent call last)",
      "\u001b[1;32m/Users/wangziqiao/Desktop/comp110/comp110-22f-workspace/lessons/shakespeare.ipynb Cell 4\u001b[0m in \u001b[0;36m<cell line: 1>\u001b[0;34m()\u001b[0m\n\u001b[0;32m----> <a href='vscode-notebook-cell:/Users/wangziqiao/Desktop/comp110/comp110-22f-workspace/lessons/shakespeare.ipynb#W3sZmlsZQ%3D%3D?line=0'>1</a>\u001b[0m \u001b[39mfrom\u001b[39;00m \u001b[39mimaplib\u001b[39;00m \u001b[39mimport\u001b[39;00m _CommandResults\n\u001b[1;32m      <a href='vscode-notebook-cell:/Users/wangziqiao/Desktop/comp110/comp110-22f-workspace/lessons/shakespeare.ipynb#W3sZmlsZQ%3D%3D?line=3'>4</a>\u001b[0m \u001b[39mdef\u001b[39;00m \u001b[39mtally\u001b[39m(counts: \u001b[39mdict\u001b[39m[\u001b[39mstr\u001b[39m, \u001b[39mint\u001b[39m], key: \u001b[39mstr\u001b[39m) \u001b[39m-\u001b[39m\u001b[39m>\u001b[39m \u001b[39mNone\u001b[39;00m:\n\u001b[1;32m      <a href='vscode-notebook-cell:/Users/wangziqiao/Desktop/comp110/comp110-22f-workspace/lessons/shakespeare.ipynb#W3sZmlsZQ%3D%3D?line=4'>5</a>\u001b[0m     \u001b[39mif\u001b[39;00m key \u001b[39min\u001b[39;00m counts:\n",
      "\u001b[0;31mImportError\u001b[0m: cannot import name '_CommandResults' from 'imaplib' (/Library/Frameworks/Python.framework/Versions/3.10/lib/python3.10/imaplib.py)"
     ]
    }
   ],
   "source": [
    "from imaplib import _CommandResults\n",
    "\n",
    "\n",
    "def tally(counts: dict[str, int], key: str) -> None:\n",
    "    if key in counts:\n",
    "        counts[key] += 1\n",
    "    else:\n",
    "        counts[key] = 1\n",
    "\n",
    "\n",
    "def count_letters(lines: list[str]) -> dict[str, int]:\n",
    "    \"\"\"Count the frequencies of all letters in lines.\"\"\"\n",
    "    counts: dict[str, int] = {}\n",
    "    # For each line in lines\n",
    "    #    Loop through each character in the line\n",
    "    #        Tally that character into counts using your tally function\n",
    "    #         Challenge: Only tally a - z characters\n",
    "    for line in lines:\n",
    "        for char in lines:\n",
    "            if char >= \"a\" and char <= \"z\":\n",
    "                tally(counts, char)\n",
    "    return counts\n",
    "\n",
    "shakespeare_letters: dict[str, int] = count_letters(shakespeare_lines)\n",
    "print(shakespeare_letters)"
   ]
  },
  {
   "cell_type": "code",
   "execution_count": 12,
   "metadata": {},
   "outputs": [
    {
     "ename": "NameError",
     "evalue": "name 'shakepseare_letters' is not defined",
     "output_type": "error",
     "traceback": [
      "\u001b[0;31m---------------------------------------------------------------------------\u001b[0m",
      "\u001b[0;31mNameError\u001b[0m                                 Traceback (most recent call last)",
      "\u001b[1;32m/Users/wangziqiao/Desktop/comp110/comp110-22f-workspace/lessons/shakespeare.ipynb Cell 5\u001b[0m in \u001b[0;36m<cell line: 1>\u001b[0;34m()\u001b[0m\n\u001b[0;32m----> <a href='vscode-notebook-cell:/Users/wangziqiao/Desktop/comp110/comp110-22f-workspace/lessons/shakespeare.ipynb#W6sZmlsZQ%3D%3D?line=0'>1</a>\u001b[0m items_in_dict: \u001b[39mlist\u001b[39m[\u001b[39mtuple\u001b[39m[\u001b[39mstr\u001b[39m, \u001b[39mint\u001b[39m]] \u001b[39m=\u001b[39m \u001b[39mlist\u001b[39m(shakepseare_letters\u001b[39m.\u001b[39mitems())\n\u001b[1;32m      <a href='vscode-notebook-cell:/Users/wangziqiao/Desktop/comp110/comp110-22f-workspace/lessons/shakespeare.ipynb#W6sZmlsZQ%3D%3D?line=1'>2</a>\u001b[0m items_in_dict \u001b[39m=\u001b[39m \u001b[39msorted\u001b[39m(items_in_dict)\n\u001b[1;32m      <a href='vscode-notebook-cell:/Users/wangziqiao/Desktop/comp110/comp110-22f-workspace/lessons/shakespeare.ipynb#W6sZmlsZQ%3D%3D?line=2'>3</a>\u001b[0m shakespeare_letters_sorted: \u001b[39mdict\u001b[39m[\u001b[39mstr\u001b[39m, \u001b[39mint\u001b[39m] \u001b[39m=\u001b[39m \u001b[39mdict\u001b[39m(items_in_dict)\n",
      "\u001b[0;31mNameError\u001b[0m: name 'shakepseare_letters' is not defined"
     ]
    }
   ],
   "source": [
    "items_in_dict: list[tuple[str, int]] = list(shakepseare_letters.items())\n",
    "items_in_dict = sorted(items_in_dict)\n",
    "shakespeare_letters_sorted: dict[str, int] = dict(items_in_dict)\n",
    "\n",
    "print(items_in_dict)"
   ]
  },
  {
   "cell_type": "code",
   "execution_count": 13,
   "metadata": {},
   "outputs": [
    {
     "ename": "NameError",
     "evalue": "name 'sahkespeare_letters' is not defined",
     "output_type": "error",
     "traceback": [
      "\u001b[0;31m---------------------------------------------------------------------------\u001b[0m",
      "\u001b[0;31mNameError\u001b[0m                                 Traceback (most recent call last)",
      "\u001b[1;32m/Users/wangziqiao/Desktop/comp110/comp110-22f-workspace/lessons/shakespeare.ipynb Cell 6\u001b[0m in \u001b[0;36m<cell line: 8>\u001b[0;34m()\u001b[0m\n\u001b[1;32m      <a href='vscode-notebook-cell:/Users/wangziqiao/Desktop/comp110/comp110-22f-workspace/lessons/shakespeare.ipynb#W5sZmlsZQ%3D%3D?line=5'>6</a>\u001b[0m pyplot\u001b[39m.\u001b[39mxlabel(\u001b[39m\"\u001b[39m\u001b[39mLetters\u001b[39m\u001b[39m\"\u001b[39m)\n\u001b[1;32m      <a href='vscode-notebook-cell:/Users/wangziqiao/Desktop/comp110/comp110-22f-workspace/lessons/shakespeare.ipynb#W5sZmlsZQ%3D%3D?line=6'>7</a>\u001b[0m pyplot\u001b[39m.\u001b[39mylabel(\u001b[39m\"\u001b[39m\u001b[39mFrequencies\u001b[39m\u001b[39m\"\u001b[39m)\n\u001b[0;32m----> <a href='vscode-notebook-cell:/Users/wangziqiao/Desktop/comp110/comp110-22f-workspace/lessons/shakespeare.ipynb#W5sZmlsZQ%3D%3D?line=7'>8</a>\u001b[0m labels: \u001b[39mlist\u001b[39m[\u001b[39mstr\u001b[39m] \u001b[39m=\u001b[39m \u001b[39mlist\u001b[39m(sahkespeare_letters\u001b[39m.\u001b[39mkeys())\n\u001b[1;32m      <a href='vscode-notebook-cell:/Users/wangziqiao/Desktop/comp110/comp110-22f-workspace/lessons/shakespeare.ipynb#W5sZmlsZQ%3D%3D?line=8'>9</a>\u001b[0m values: \u001b[39mlist\u001b[39m[\u001b[39mint\u001b[39m] \u001b[39m=\u001b[39m \u001b[39mlist\u001b[39m[shakespeare_letters\u001b[39m.\u001b[39mvalues()]\n",
      "\u001b[0;31mNameError\u001b[0m: name 'sahkespeare_letters' is not defined"
     ]
    },
    {
     "data": {
      "image/png": "[encoded data removed]",
      "text/plain": [
       "<Figure size 640x480 with 1 Axes>"
      ]
     },
     "metadata": {},
     "output_type": "display_data"
    }
   ],
   "source": [
    "# Make a bar chart\n",
    "\n",
    "from matplotlib import pyplot\n",
    "\n",
    "pyplot.title(\"Frequencies of Letters\")\n",
    "pyplot.xlabel(\"Letters\")\n",
    "pyplot.ylabel(\"Frequencies\")\n",
    "labels: list[str] = list(sahkespeare_letters.keys())\n",
    "values: list[int] = list[shakespeare_letters.values()]"
   ]
  },
  {
   "cell_type": "code",
   "execution_count": null,
   "metadata": {},
   "outputs": [],
   "source": []
  }
 ],
 "metadata": {
  "kernelspec": {
   "display_name": "Python 3.10.6 64-bit",
   "language": "python",
   "name": "python3"
  },
  "language_info": {
   "codemirror_mode": {
    "name": "ipython",
    "version": 3
   },
   "file_extension": ".py",
   "mimetype": "text/x-python",
   "name": "python",
   "nbconvert_exporter": "python",
   "pygments_lexer": "ipython3",
   "version": "3.10.6"
  },
  "orig_nbformat": 4,
  "vscode": {
   "interpreter": {
    "hash": "aee8b7b246df8f9039afb4144a1f6fd8d2ca17a180786b69acc140d282b71a49"
   }
  }
 },
 "nbformat": 4,
 "nbformat_minor": 2
}
